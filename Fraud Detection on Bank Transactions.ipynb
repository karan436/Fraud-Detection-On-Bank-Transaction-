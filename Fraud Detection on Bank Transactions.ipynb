{
 "cells": [
  {
   "cell_type": "code",
   "execution_count": 1,
   "id": "a9f72ae1",
   "metadata": {},
   "outputs": [],
   "source": [
    "import numpy as np\n",
    "import pandas as pd\n",
    "import seaborn as sns\n",
    "import matplotlib.pyplot as plt\n",
    "import warnings\n",
    "warnings.filterwarnings(\"ignore\")\n"
   ]
  },
  {
   "cell_type": "code",
   "execution_count": 2,
   "id": "d4e2b1a9",
   "metadata": {},
   "outputs": [
    {
     "data": {
      "text/html": [
       "<div>\n",
       "<style scoped>\n",
       "    .dataframe tbody tr th:only-of-type {\n",
       "        vertical-align: middle;\n",
       "    }\n",
       "\n",
       "    .dataframe tbody tr th {\n",
       "        vertical-align: top;\n",
       "    }\n",
       "\n",
       "    .dataframe thead th {\n",
       "        text-align: right;\n",
       "    }\n",
       "</style>\n",
       "<table border=\"1\" class=\"dataframe\">\n",
       "  <thead>\n",
       "    <tr style=\"text-align: right;\">\n",
       "      <th></th>\n",
       "      <th>step</th>\n",
       "      <th>customer</th>\n",
       "      <th>age</th>\n",
       "      <th>gender</th>\n",
       "      <th>zipcodeOri</th>\n",
       "      <th>merchant</th>\n",
       "      <th>zipMerchant</th>\n",
       "      <th>category</th>\n",
       "      <th>amount</th>\n",
       "      <th>fraud</th>\n",
       "    </tr>\n",
       "  </thead>\n",
       "  <tbody>\n",
       "    <tr>\n",
       "      <th>0</th>\n",
       "      <td>0</td>\n",
       "      <td>'C1093826151'</td>\n",
       "      <td>'4'</td>\n",
       "      <td>'M'</td>\n",
       "      <td>'28007'</td>\n",
       "      <td>'M348934600'</td>\n",
       "      <td>'28007'</td>\n",
       "      <td>'es_transportation'</td>\n",
       "      <td>4.55</td>\n",
       "      <td>0</td>\n",
       "    </tr>\n",
       "    <tr>\n",
       "      <th>1</th>\n",
       "      <td>0</td>\n",
       "      <td>'C352968107'</td>\n",
       "      <td>'2'</td>\n",
       "      <td>'M'</td>\n",
       "      <td>'28007'</td>\n",
       "      <td>'M348934600'</td>\n",
       "      <td>'28007'</td>\n",
       "      <td>'es_transportation'</td>\n",
       "      <td>39.68</td>\n",
       "      <td>0</td>\n",
       "    </tr>\n",
       "    <tr>\n",
       "      <th>2</th>\n",
       "      <td>0</td>\n",
       "      <td>'C2054744914'</td>\n",
       "      <td>'4'</td>\n",
       "      <td>'F'</td>\n",
       "      <td>'28007'</td>\n",
       "      <td>'M1823072687'</td>\n",
       "      <td>'28007'</td>\n",
       "      <td>'es_transportation'</td>\n",
       "      <td>26.89</td>\n",
       "      <td>0</td>\n",
       "    </tr>\n",
       "    <tr>\n",
       "      <th>3</th>\n",
       "      <td>0</td>\n",
       "      <td>'C1760612790'</td>\n",
       "      <td>'3'</td>\n",
       "      <td>'M'</td>\n",
       "      <td>'28007'</td>\n",
       "      <td>'M348934600'</td>\n",
       "      <td>'28007'</td>\n",
       "      <td>'es_transportation'</td>\n",
       "      <td>17.25</td>\n",
       "      <td>0</td>\n",
       "    </tr>\n",
       "    <tr>\n",
       "      <th>4</th>\n",
       "      <td>0</td>\n",
       "      <td>'C757503768'</td>\n",
       "      <td>'5'</td>\n",
       "      <td>'M'</td>\n",
       "      <td>'28007'</td>\n",
       "      <td>'M348934600'</td>\n",
       "      <td>'28007'</td>\n",
       "      <td>'es_transportation'</td>\n",
       "      <td>35.72</td>\n",
       "      <td>0</td>\n",
       "    </tr>\n",
       "    <tr>\n",
       "      <th>...</th>\n",
       "      <td>...</td>\n",
       "      <td>...</td>\n",
       "      <td>...</td>\n",
       "      <td>...</td>\n",
       "      <td>...</td>\n",
       "      <td>...</td>\n",
       "      <td>...</td>\n",
       "      <td>...</td>\n",
       "      <td>...</td>\n",
       "      <td>...</td>\n",
       "    </tr>\n",
       "    <tr>\n",
       "      <th>65530</th>\n",
       "      <td>24</td>\n",
       "      <td>'C720418898'</td>\n",
       "      <td>'3'</td>\n",
       "      <td>'M'</td>\n",
       "      <td>'28007'</td>\n",
       "      <td>'M348934600'</td>\n",
       "      <td>'28007'</td>\n",
       "      <td>'es_transportation'</td>\n",
       "      <td>58.35</td>\n",
       "      <td>0</td>\n",
       "    </tr>\n",
       "    <tr>\n",
       "      <th>65531</th>\n",
       "      <td>24</td>\n",
       "      <td>'C194859196'</td>\n",
       "      <td>'2'</td>\n",
       "      <td>'F'</td>\n",
       "      <td>'28007'</td>\n",
       "      <td>'M1823072687'</td>\n",
       "      <td>'28007'</td>\n",
       "      <td>'es_transportation'</td>\n",
       "      <td>24.76</td>\n",
       "      <td>0</td>\n",
       "    </tr>\n",
       "    <tr>\n",
       "      <th>65532</th>\n",
       "      <td>24</td>\n",
       "      <td>'C1209743372'</td>\n",
       "      <td>'4'</td>\n",
       "      <td>'F'</td>\n",
       "      <td>'28007'</td>\n",
       "      <td>'M1823072687'</td>\n",
       "      <td>'28007'</td>\n",
       "      <td>'es_transportation'</td>\n",
       "      <td>18.82</td>\n",
       "      <td>0</td>\n",
       "    </tr>\n",
       "    <tr>\n",
       "      <th>65533</th>\n",
       "      <td>24</td>\n",
       "      <td>'C1821681988'</td>\n",
       "      <td>'2'</td>\n",
       "      <td>'F'</td>\n",
       "      <td>'28007'</td>\n",
       "      <td>'M1823072687'</td>\n",
       "      <td>'28007'</td>\n",
       "      <td>'es_transportation'</td>\n",
       "      <td>9.77</td>\n",
       "      <td>0</td>\n",
       "    </tr>\n",
       "    <tr>\n",
       "      <th>65534</th>\n",
       "      <td>24</td>\n",
       "      <td>'C906611945'</td>\n",
       "      <td>'2'</td>\n",
       "      <td>'M'</td>\n",
       "      <td>'28007'</td>\n",
       "      <td>'M348934600'</td>\n",
       "      <td>'28007'</td>\n",
       "      <td>'es_transportation'</td>\n",
       "      <td>21.50</td>\n",
       "      <td>0</td>\n",
       "    </tr>\n",
       "  </tbody>\n",
       "</table>\n",
       "<p>65535 rows × 10 columns</p>\n",
       "</div>"
      ],
      "text/plain": [
       "       step       customer  age gender zipcodeOri       merchant zipMerchant  \\\n",
       "0         0  'C1093826151'  '4'    'M'    '28007'   'M348934600'     '28007'   \n",
       "1         0   'C352968107'  '2'    'M'    '28007'   'M348934600'     '28007'   \n",
       "2         0  'C2054744914'  '4'    'F'    '28007'  'M1823072687'     '28007'   \n",
       "3         0  'C1760612790'  '3'    'M'    '28007'   'M348934600'     '28007'   \n",
       "4         0   'C757503768'  '5'    'M'    '28007'   'M348934600'     '28007'   \n",
       "...     ...            ...  ...    ...        ...            ...         ...   \n",
       "65530    24   'C720418898'  '3'    'M'    '28007'   'M348934600'     '28007'   \n",
       "65531    24   'C194859196'  '2'    'F'    '28007'  'M1823072687'     '28007'   \n",
       "65532    24  'C1209743372'  '4'    'F'    '28007'  'M1823072687'     '28007'   \n",
       "65533    24  'C1821681988'  '2'    'F'    '28007'  'M1823072687'     '28007'   \n",
       "65534    24   'C906611945'  '2'    'M'    '28007'   'M348934600'     '28007'   \n",
       "\n",
       "                  category  amount  fraud  \n",
       "0      'es_transportation'    4.55      0  \n",
       "1      'es_transportation'   39.68      0  \n",
       "2      'es_transportation'   26.89      0  \n",
       "3      'es_transportation'   17.25      0  \n",
       "4      'es_transportation'   35.72      0  \n",
       "...                    ...     ...    ...  \n",
       "65530  'es_transportation'   58.35      0  \n",
       "65531  'es_transportation'   24.76      0  \n",
       "65532  'es_transportation'   18.82      0  \n",
       "65533  'es_transportation'    9.77      0  \n",
       "65534  'es_transportation'   21.50      0  \n",
       "\n",
       "[65535 rows x 10 columns]"
      ]
     },
     "execution_count": 2,
     "metadata": {},
     "output_type": "execute_result"
    }
   ],
   "source": [
    "df=pd.read_csv(r'C:\\Users\\karan\\Downloads\\k3.csv')\n",
    "df"
   ]
  },
  {
   "cell_type": "code",
   "execution_count": 3,
   "id": "7ac9f654",
   "metadata": {},
   "outputs": [
    {
     "data": {
      "text/plain": [
       "(65535, 10)"
      ]
     },
     "execution_count": 3,
     "metadata": {},
     "output_type": "execute_result"
    }
   ],
   "source": [
    "df.shape"
   ]
  },
  {
   "cell_type": "code",
   "execution_count": 4,
   "id": "af98cb02",
   "metadata": {},
   "outputs": [
    {
     "name": "stdout",
     "output_type": "stream",
     "text": [
      "<class 'pandas.core.frame.DataFrame'>\n",
      "RangeIndex: 65535 entries, 0 to 65534\n",
      "Data columns (total 10 columns):\n",
      " #   Column       Non-Null Count  Dtype  \n",
      "---  ------       --------------  -----  \n",
      " 0   step         65535 non-null  int64  \n",
      " 1   customer     65535 non-null  object \n",
      " 2   age          65535 non-null  object \n",
      " 3   gender       65535 non-null  object \n",
      " 4   zipcodeOri   65535 non-null  object \n",
      " 5   merchant     65535 non-null  object \n",
      " 6   zipMerchant  65535 non-null  object \n",
      " 7   category     65535 non-null  object \n",
      " 8   amount       65535 non-null  float64\n",
      " 9   fraud        65535 non-null  int64  \n",
      "dtypes: float64(1), int64(2), object(7)\n",
      "memory usage: 5.0+ MB\n"
     ]
    }
   ],
   "source": [
    "df.info()"
   ]
  },
  {
   "cell_type": "code",
   "execution_count": 5,
   "id": "5d21cdf9",
   "metadata": {},
   "outputs": [
    {
     "data": {
      "text/html": [
       "<div>\n",
       "<style scoped>\n",
       "    .dataframe tbody tr th:only-of-type {\n",
       "        vertical-align: middle;\n",
       "    }\n",
       "\n",
       "    .dataframe tbody tr th {\n",
       "        vertical-align: top;\n",
       "    }\n",
       "\n",
       "    .dataframe thead th {\n",
       "        text-align: right;\n",
       "    }\n",
       "</style>\n",
       "<table border=\"1\" class=\"dataframe\">\n",
       "  <thead>\n",
       "    <tr style=\"text-align: right;\">\n",
       "      <th></th>\n",
       "      <th>step</th>\n",
       "      <th>amount</th>\n",
       "      <th>fraud</th>\n",
       "    </tr>\n",
       "  </thead>\n",
       "  <tbody>\n",
       "    <tr>\n",
       "      <th>count</th>\n",
       "      <td>65535.000000</td>\n",
       "      <td>65535.000000</td>\n",
       "      <td>65535.000000</td>\n",
       "    </tr>\n",
       "    <tr>\n",
       "      <th>mean</th>\n",
       "      <td>12.216358</td>\n",
       "      <td>39.727756</td>\n",
       "      <td>0.015106</td>\n",
       "    </tr>\n",
       "    <tr>\n",
       "      <th>std</th>\n",
       "      <td>7.136616</td>\n",
       "      <td>129.053485</td>\n",
       "      <td>0.121977</td>\n",
       "    </tr>\n",
       "    <tr>\n",
       "      <th>min</th>\n",
       "      <td>0.000000</td>\n",
       "      <td>0.000000</td>\n",
       "      <td>0.000000</td>\n",
       "    </tr>\n",
       "    <tr>\n",
       "      <th>25%</th>\n",
       "      <td>6.000000</td>\n",
       "      <td>13.860000</td>\n",
       "      <td>0.000000</td>\n",
       "    </tr>\n",
       "    <tr>\n",
       "      <th>50%</th>\n",
       "      <td>12.000000</td>\n",
       "      <td>26.930000</td>\n",
       "      <td>0.000000</td>\n",
       "    </tr>\n",
       "    <tr>\n",
       "      <th>75%</th>\n",
       "      <td>18.000000</td>\n",
       "      <td>42.810000</td>\n",
       "      <td>0.000000</td>\n",
       "    </tr>\n",
       "    <tr>\n",
       "      <th>max</th>\n",
       "      <td>24.000000</td>\n",
       "      <td>7432.480000</td>\n",
       "      <td>1.000000</td>\n",
       "    </tr>\n",
       "  </tbody>\n",
       "</table>\n",
       "</div>"
      ],
      "text/plain": [
       "               step        amount         fraud\n",
       "count  65535.000000  65535.000000  65535.000000\n",
       "mean      12.216358     39.727756      0.015106\n",
       "std        7.136616    129.053485      0.121977\n",
       "min        0.000000      0.000000      0.000000\n",
       "25%        6.000000     13.860000      0.000000\n",
       "50%       12.000000     26.930000      0.000000\n",
       "75%       18.000000     42.810000      0.000000\n",
       "max       24.000000   7432.480000      1.000000"
      ]
     },
     "execution_count": 5,
     "metadata": {},
     "output_type": "execute_result"
    }
   ],
   "source": [
    "df.describe()"
   ]
  },
  {
   "cell_type": "code",
   "execution_count": 6,
   "id": "44f7d82c",
   "metadata": {},
   "outputs": [
    {
     "data": {
      "text/plain": [
       "step           0\n",
       "customer       0\n",
       "age            0\n",
       "gender         0\n",
       "zipcodeOri     0\n",
       "merchant       0\n",
       "zipMerchant    0\n",
       "category       0\n",
       "amount         0\n",
       "fraud          0\n",
       "dtype: int64"
      ]
     },
     "execution_count": 6,
     "metadata": {},
     "output_type": "execute_result"
    }
   ],
   "source": [
    "df.isnull().sum()"
   ]
  },
  {
   "cell_type": "code",
   "execution_count": 7,
   "id": "deab47e9",
   "metadata": {},
   "outputs": [
    {
     "data": {
      "text/plain": [
       "<AxesSubplot: xlabel='fraud', ylabel='count'>"
      ]
     },
     "execution_count": 7,
     "metadata": {},
     "output_type": "execute_result"
    },
    {
     "data": {
      "image/png": "[encoded data removed]",
      "text/plain": [
       "<Figure size 432x288 with 1 Axes>"
      ]
     },
     "metadata": {
      "needs_background": "light"
     },
     "output_type": "display_data"
    }
   ],
   "source": [
    "sns.countplot(x=\"fraud\",data=df)"
   ]
  },
  {
   "cell_type": "code",
   "execution_count": 8,
   "id": "6e256ab3",
   "metadata": {},
   "outputs": [],
   "source": [
    "df.drop([\"zipcodeOri\"],axis=1,inplace=True)"
   ]
  },
  {
   "cell_type": "code",
   "execution_count": 9,
   "id": "3618fc3b",
   "metadata": {},
   "outputs": [],
   "source": [
    "df.drop([\"zipMerchant\"],axis=1,inplace=True)"
   ]
  },
  {
   "cell_type": "code",
   "execution_count": 10,
   "id": "e285aadf",
   "metadata": {},
   "outputs": [
    {
     "data": {
      "text/plain": [
       "'F'    35958\n",
       "'M'    29410\n",
       "'E'       98\n",
       "'U'       69\n",
       "Name: gender, dtype: int64"
      ]
     },
     "execution_count": 10,
     "metadata": {},
     "output_type": "execute_result"
    }
   ],
   "source": [
    "df[\"gender\"].value_counts()"
   ]
  },
  {
   "cell_type": "code",
   "execution_count": 11,
   "id": "e017e02b",
   "metadata": {},
   "outputs": [
    {
     "data": {
      "text/plain": [
       "Index(['customer', 'age', 'gender', 'merchant', 'category'], dtype='object')"
      ]
     },
     "execution_count": 11,
     "metadata": {},
     "output_type": "execute_result"
    }
   ],
   "source": [
    "catcol=df.select_dtypes(object).columns\n",
    "catcol"
   ]
  },
  {
   "cell_type": "code",
   "execution_count": 12,
   "id": "ed0cbc9a",
   "metadata": {},
   "outputs": [],
   "source": [
    "from sklearn.preprocessing import OrdinalEncoder\n",
    "oe=OrdinalEncoder()\n",
    "df[catcol]=oe.fit_transform(df[catcol])"
   ]
  },
  {
   "cell_type": "code",
   "execution_count": 13,
   "id": "f55142b0",
   "metadata": {},
   "outputs": [
    {
     "data": {
      "text/html": [
       "<div>\n",
       "<style scoped>\n",
       "    .dataframe tbody tr th:only-of-type {\n",
       "        vertical-align: middle;\n",
       "    }\n",
       "\n",
       "    .dataframe tbody tr th {\n",
       "        vertical-align: top;\n",
       "    }\n",
       "\n",
       "    .dataframe thead th {\n",
       "        text-align: right;\n",
       "    }\n",
       "</style>\n",
       "<table border=\"1\" class=\"dataframe\">\n",
       "  <thead>\n",
       "    <tr style=\"text-align: right;\">\n",
       "      <th></th>\n",
       "      <th>step</th>\n",
       "      <th>customer</th>\n",
       "      <th>age</th>\n",
       "      <th>gender</th>\n",
       "      <th>merchant</th>\n",
       "      <th>category</th>\n",
       "      <th>amount</th>\n",
       "      <th>fraud</th>\n",
       "    </tr>\n",
       "  </thead>\n",
       "  <tbody>\n",
       "    <tr>\n",
       "      <th>0</th>\n",
       "      <td>0</td>\n",
       "      <td>197.0</td>\n",
       "      <td>4.0</td>\n",
       "      <td>2.0</td>\n",
       "      <td>30.0</td>\n",
       "      <td>12.0</td>\n",
       "      <td>4.55</td>\n",
       "      <td>0</td>\n",
       "    </tr>\n",
       "    <tr>\n",
       "      <th>1</th>\n",
       "      <td>0</td>\n",
       "      <td>2604.0</td>\n",
       "      <td>2.0</td>\n",
       "      <td>2.0</td>\n",
       "      <td>30.0</td>\n",
       "      <td>12.0</td>\n",
       "      <td>39.68</td>\n",
       "      <td>0</td>\n",
       "    </tr>\n",
       "    <tr>\n",
       "      <th>2</th>\n",
       "      <td>0</td>\n",
       "      <td>2160.0</td>\n",
       "      <td>4.0</td>\n",
       "      <td>1.0</td>\n",
       "      <td>18.0</td>\n",
       "      <td>12.0</td>\n",
       "      <td>26.89</td>\n",
       "      <td>0</td>\n",
       "    </tr>\n",
       "    <tr>\n",
       "      <th>3</th>\n",
       "      <td>0</td>\n",
       "      <td>1554.0</td>\n",
       "      <td>3.0</td>\n",
       "      <td>2.0</td>\n",
       "      <td>30.0</td>\n",
       "      <td>12.0</td>\n",
       "      <td>17.25</td>\n",
       "      <td>0</td>\n",
       "    </tr>\n",
       "    <tr>\n",
       "      <th>4</th>\n",
       "      <td>0</td>\n",
       "      <td>3388.0</td>\n",
       "      <td>5.0</td>\n",
       "      <td>2.0</td>\n",
       "      <td>30.0</td>\n",
       "      <td>12.0</td>\n",
       "      <td>35.72</td>\n",
       "      <td>0</td>\n",
       "    </tr>\n",
       "    <tr>\n",
       "      <th>...</th>\n",
       "      <td>...</td>\n",
       "      <td>...</td>\n",
       "      <td>...</td>\n",
       "      <td>...</td>\n",
       "      <td>...</td>\n",
       "      <td>...</td>\n",
       "      <td>...</td>\n",
       "      <td>...</td>\n",
       "    </tr>\n",
       "    <tr>\n",
       "      <th>65530</th>\n",
       "      <td>24</td>\n",
       "      <td>3311.0</td>\n",
       "      <td>3.0</td>\n",
       "      <td>2.0</td>\n",
       "      <td>30.0</td>\n",
       "      <td>12.0</td>\n",
       "      <td>58.35</td>\n",
       "      <td>0</td>\n",
       "    </tr>\n",
       "    <tr>\n",
       "      <th>65531</th>\n",
       "      <td>24</td>\n",
       "      <td>1943.0</td>\n",
       "      <td>2.0</td>\n",
       "      <td>1.0</td>\n",
       "      <td>18.0</td>\n",
       "      <td>12.0</td>\n",
       "      <td>24.76</td>\n",
       "      <td>0</td>\n",
       "    </tr>\n",
       "    <tr>\n",
       "      <th>65532</th>\n",
       "      <td>24</td>\n",
       "      <td>446.0</td>\n",
       "      <td>4.0</td>\n",
       "      <td>1.0</td>\n",
       "      <td>18.0</td>\n",
       "      <td>12.0</td>\n",
       "      <td>18.82</td>\n",
       "      <td>0</td>\n",
       "    </tr>\n",
       "    <tr>\n",
       "      <th>65533</th>\n",
       "      <td>24</td>\n",
       "      <td>1692.0</td>\n",
       "      <td>2.0</td>\n",
       "      <td>1.0</td>\n",
       "      <td>18.0</td>\n",
       "      <td>12.0</td>\n",
       "      <td>9.77</td>\n",
       "      <td>0</td>\n",
       "    </tr>\n",
       "    <tr>\n",
       "      <th>65534</th>\n",
       "      <td>24</td>\n",
       "      <td>3700.0</td>\n",
       "      <td>2.0</td>\n",
       "      <td>2.0</td>\n",
       "      <td>30.0</td>\n",
       "      <td>12.0</td>\n",
       "      <td>21.50</td>\n",
       "      <td>0</td>\n",
       "    </tr>\n",
       "  </tbody>\n",
       "</table>\n",
       "<p>65535 rows × 8 columns</p>\n",
       "</div>"
      ],
      "text/plain": [
       "       step  customer  age  gender  merchant  category  amount  fraud\n",
       "0         0     197.0  4.0     2.0      30.0      12.0    4.55      0\n",
       "1         0    2604.0  2.0     2.0      30.0      12.0   39.68      0\n",
       "2         0    2160.0  4.0     1.0      18.0      12.0   26.89      0\n",
       "3         0    1554.0  3.0     2.0      30.0      12.0   17.25      0\n",
       "4         0    3388.0  5.0     2.0      30.0      12.0   35.72      0\n",
       "...     ...       ...  ...     ...       ...       ...     ...    ...\n",
       "65530    24    3311.0  3.0     2.0      30.0      12.0   58.35      0\n",
       "65531    24    1943.0  2.0     1.0      18.0      12.0   24.76      0\n",
       "65532    24     446.0  4.0     1.0      18.0      12.0   18.82      0\n",
       "65533    24    1692.0  2.0     1.0      18.0      12.0    9.77      0\n",
       "65534    24    3700.0  2.0     2.0      30.0      12.0   21.50      0\n",
       "\n",
       "[65535 rows x 8 columns]"
      ]
     },
     "execution_count": 13,
     "metadata": {},
     "output_type": "execute_result"
    }
   ],
   "source": [
    "df"
   ]
  },
  {
   "cell_type": "code",
   "execution_count": 14,
   "id": "6ed2ef58",
   "metadata": {},
   "outputs": [
    {
     "data": {
      "text/plain": [
       "0    64545\n",
       "1      990\n",
       "Name: fraud, dtype: int64"
      ]
     },
     "execution_count": 14,
     "metadata": {},
     "output_type": "execute_result"
    }
   ],
   "source": [
    "df[\"fraud\"].value_counts()"
   ]
  },
  {
   "cell_type": "code",
   "execution_count": 15,
   "id": "cd040c3f",
   "metadata": {},
   "outputs": [],
   "source": [
    "features=df[[\"customer\",\"age\",\"gender\",\"merchant\",\"category\",\"amount\"]]"
   ]
  },
  {
   "cell_type": "code",
   "execution_count": 16,
   "id": "e519baf2",
   "metadata": {},
   "outputs": [
    {
     "data": {
      "text/html": [
       "<div>\n",
       "<style scoped>\n",
       "    .dataframe tbody tr th:only-of-type {\n",
       "        vertical-align: middle;\n",
       "    }\n",
       "\n",
       "    .dataframe tbody tr th {\n",
       "        vertical-align: top;\n",
       "    }\n",
       "\n",
       "    .dataframe thead th {\n",
       "        text-align: right;\n",
       "    }\n",
       "</style>\n",
       "<table border=\"1\" class=\"dataframe\">\n",
       "  <thead>\n",
       "    <tr style=\"text-align: right;\">\n",
       "      <th></th>\n",
       "      <th>customer</th>\n",
       "      <th>age</th>\n",
       "      <th>gender</th>\n",
       "      <th>merchant</th>\n",
       "      <th>category</th>\n",
       "      <th>amount</th>\n",
       "    </tr>\n",
       "  </thead>\n",
       "  <tbody>\n",
       "    <tr>\n",
       "      <th>0</th>\n",
       "      <td>1.554690</td>\n",
       "      <td>0.741750</td>\n",
       "      <td>1.095705</td>\n",
       "      <td>0.426772</td>\n",
       "      <td>0.313524</td>\n",
       "      <td>0.272585</td>\n",
       "    </tr>\n",
       "    <tr>\n",
       "      <th>1</th>\n",
       "      <td>0.607578</td>\n",
       "      <td>0.753546</td>\n",
       "      <td>1.095705</td>\n",
       "      <td>0.426772</td>\n",
       "      <td>0.313524</td>\n",
       "      <td>0.000370</td>\n",
       "    </tr>\n",
       "    <tr>\n",
       "      <th>2</th>\n",
       "      <td>0.208722</td>\n",
       "      <td>0.741750</td>\n",
       "      <td>0.894236</td>\n",
       "      <td>1.096954</td>\n",
       "      <td>0.313524</td>\n",
       "      <td>0.099477</td>\n",
       "    </tr>\n",
       "    <tr>\n",
       "      <th>3</th>\n",
       "      <td>0.335663</td>\n",
       "      <td>0.005898</td>\n",
       "      <td>1.095705</td>\n",
       "      <td>0.426772</td>\n",
       "      <td>0.313524</td>\n",
       "      <td>0.174175</td>\n",
       "    </tr>\n",
       "    <tr>\n",
       "      <th>4</th>\n",
       "      <td>1.311865</td>\n",
       "      <td>1.489397</td>\n",
       "      <td>1.095705</td>\n",
       "      <td>0.426772</td>\n",
       "      <td>0.313524</td>\n",
       "      <td>0.031055</td>\n",
       "    </tr>\n",
       "    <tr>\n",
       "      <th>...</th>\n",
       "      <td>...</td>\n",
       "      <td>...</td>\n",
       "      <td>...</td>\n",
       "      <td>...</td>\n",
       "      <td>...</td>\n",
       "      <td>...</td>\n",
       "    </tr>\n",
       "    <tr>\n",
       "      <th>65530</th>\n",
       "      <td>1.242694</td>\n",
       "      <td>0.005898</td>\n",
       "      <td>1.095705</td>\n",
       "      <td>0.426772</td>\n",
       "      <td>0.313524</td>\n",
       "      <td>0.144300</td>\n",
       "    </tr>\n",
       "    <tr>\n",
       "      <th>65531</th>\n",
       "      <td>0.013786</td>\n",
       "      <td>0.753546</td>\n",
       "      <td>0.894236</td>\n",
       "      <td>1.096954</td>\n",
       "      <td>0.313524</td>\n",
       "      <td>0.115982</td>\n",
       "    </tr>\n",
       "    <tr>\n",
       "      <th>65532</th>\n",
       "      <td>1.331007</td>\n",
       "      <td>0.741750</td>\n",
       "      <td>0.894236</td>\n",
       "      <td>1.096954</td>\n",
       "      <td>0.313524</td>\n",
       "      <td>0.162010</td>\n",
       "    </tr>\n",
       "    <tr>\n",
       "      <th>65533</th>\n",
       "      <td>0.211694</td>\n",
       "      <td>0.753546</td>\n",
       "      <td>0.894236</td>\n",
       "      <td>1.096954</td>\n",
       "      <td>0.313524</td>\n",
       "      <td>0.232136</td>\n",
       "    </tr>\n",
       "    <tr>\n",
       "      <th>65534</th>\n",
       "      <td>1.592143</td>\n",
       "      <td>0.753546</td>\n",
       "      <td>1.095705</td>\n",
       "      <td>0.426772</td>\n",
       "      <td>0.313524</td>\n",
       "      <td>0.141243</td>\n",
       "    </tr>\n",
       "  </tbody>\n",
       "</table>\n",
       "<p>65535 rows × 6 columns</p>\n",
       "</div>"
      ],
      "text/plain": [
       "       customer       age    gender  merchant  category    amount\n",
       "0      1.554690  0.741750  1.095705  0.426772  0.313524  0.272585\n",
       "1      0.607578  0.753546  1.095705  0.426772  0.313524  0.000370\n",
       "2      0.208722  0.741750  0.894236  1.096954  0.313524  0.099477\n",
       "3      0.335663  0.005898  1.095705  0.426772  0.313524  0.174175\n",
       "4      1.311865  1.489397  1.095705  0.426772  0.313524  0.031055\n",
       "...         ...       ...       ...       ...       ...       ...\n",
       "65530  1.242694  0.005898  1.095705  0.426772  0.313524  0.144300\n",
       "65531  0.013786  0.753546  0.894236  1.096954  0.313524  0.115982\n",
       "65532  1.331007  0.741750  0.894236  1.096954  0.313524  0.162010\n",
       "65533  0.211694  0.753546  0.894236  1.096954  0.313524  0.232136\n",
       "65534  1.592143  0.753546  1.095705  0.426772  0.313524  0.141243\n",
       "\n",
       "[65535 rows x 6 columns]"
      ]
     },
     "execution_count": 16,
     "metadata": {},
     "output_type": "execute_result"
    }
   ],
   "source": [
    "from scipy.stats import zscore #skewness\n",
    "z=np.abs(zscore(features))\n",
    "z"
   ]
  },
  {
   "cell_type": "code",
   "execution_count": 17,
   "id": "827577a8",
   "metadata": {},
   "outputs": [
    {
     "data": {
      "text/html": [
       "<div>\n",
       "<style scoped>\n",
       "    .dataframe tbody tr th:only-of-type {\n",
       "        vertical-align: middle;\n",
       "    }\n",
       "\n",
       "    .dataframe tbody tr th {\n",
       "        vertical-align: top;\n",
       "    }\n",
       "\n",
       "    .dataframe thead th {\n",
       "        text-align: right;\n",
       "    }\n",
       "</style>\n",
       "<table border=\"1\" class=\"dataframe\">\n",
       "  <thead>\n",
       "    <tr style=\"text-align: right;\">\n",
       "      <th></th>\n",
       "      <th>step</th>\n",
       "      <th>customer</th>\n",
       "      <th>age</th>\n",
       "      <th>gender</th>\n",
       "      <th>merchant</th>\n",
       "      <th>category</th>\n",
       "      <th>amount</th>\n",
       "      <th>fraud</th>\n",
       "    </tr>\n",
       "  </thead>\n",
       "  <tbody>\n",
       "    <tr>\n",
       "      <th>0</th>\n",
       "      <td>0</td>\n",
       "      <td>197.0</td>\n",
       "      <td>4.0</td>\n",
       "      <td>2.0</td>\n",
       "      <td>30.0</td>\n",
       "      <td>12.0</td>\n",
       "      <td>4.55</td>\n",
       "      <td>0</td>\n",
       "    </tr>\n",
       "    <tr>\n",
       "      <th>1</th>\n",
       "      <td>0</td>\n",
       "      <td>2604.0</td>\n",
       "      <td>2.0</td>\n",
       "      <td>2.0</td>\n",
       "      <td>30.0</td>\n",
       "      <td>12.0</td>\n",
       "      <td>39.68</td>\n",
       "      <td>0</td>\n",
       "    </tr>\n",
       "    <tr>\n",
       "      <th>2</th>\n",
       "      <td>0</td>\n",
       "      <td>2160.0</td>\n",
       "      <td>4.0</td>\n",
       "      <td>1.0</td>\n",
       "      <td>18.0</td>\n",
       "      <td>12.0</td>\n",
       "      <td>26.89</td>\n",
       "      <td>0</td>\n",
       "    </tr>\n",
       "    <tr>\n",
       "      <th>3</th>\n",
       "      <td>0</td>\n",
       "      <td>1554.0</td>\n",
       "      <td>3.0</td>\n",
       "      <td>2.0</td>\n",
       "      <td>30.0</td>\n",
       "      <td>12.0</td>\n",
       "      <td>17.25</td>\n",
       "      <td>0</td>\n",
       "    </tr>\n",
       "    <tr>\n",
       "      <th>4</th>\n",
       "      <td>0</td>\n",
       "      <td>3388.0</td>\n",
       "      <td>5.0</td>\n",
       "      <td>2.0</td>\n",
       "      <td>30.0</td>\n",
       "      <td>12.0</td>\n",
       "      <td>35.72</td>\n",
       "      <td>0</td>\n",
       "    </tr>\n",
       "    <tr>\n",
       "      <th>...</th>\n",
       "      <td>...</td>\n",
       "      <td>...</td>\n",
       "      <td>...</td>\n",
       "      <td>...</td>\n",
       "      <td>...</td>\n",
       "      <td>...</td>\n",
       "      <td>...</td>\n",
       "      <td>...</td>\n",
       "    </tr>\n",
       "    <tr>\n",
       "      <th>65530</th>\n",
       "      <td>24</td>\n",
       "      <td>3311.0</td>\n",
       "      <td>3.0</td>\n",
       "      <td>2.0</td>\n",
       "      <td>30.0</td>\n",
       "      <td>12.0</td>\n",
       "      <td>58.35</td>\n",
       "      <td>0</td>\n",
       "    </tr>\n",
       "    <tr>\n",
       "      <th>65531</th>\n",
       "      <td>24</td>\n",
       "      <td>1943.0</td>\n",
       "      <td>2.0</td>\n",
       "      <td>1.0</td>\n",
       "      <td>18.0</td>\n",
       "      <td>12.0</td>\n",
       "      <td>24.76</td>\n",
       "      <td>0</td>\n",
       "    </tr>\n",
       "    <tr>\n",
       "      <th>65532</th>\n",
       "      <td>24</td>\n",
       "      <td>446.0</td>\n",
       "      <td>4.0</td>\n",
       "      <td>1.0</td>\n",
       "      <td>18.0</td>\n",
       "      <td>12.0</td>\n",
       "      <td>18.82</td>\n",
       "      <td>0</td>\n",
       "    </tr>\n",
       "    <tr>\n",
       "      <th>65533</th>\n",
       "      <td>24</td>\n",
       "      <td>1692.0</td>\n",
       "      <td>2.0</td>\n",
       "      <td>1.0</td>\n",
       "      <td>18.0</td>\n",
       "      <td>12.0</td>\n",
       "      <td>9.77</td>\n",
       "      <td>0</td>\n",
       "    </tr>\n",
       "    <tr>\n",
       "      <th>65534</th>\n",
       "      <td>24</td>\n",
       "      <td>3700.0</td>\n",
       "      <td>2.0</td>\n",
       "      <td>2.0</td>\n",
       "      <td>30.0</td>\n",
       "      <td>12.0</td>\n",
       "      <td>21.50</td>\n",
       "      <td>0</td>\n",
       "    </tr>\n",
       "  </tbody>\n",
       "</table>\n",
       "<p>62297 rows × 8 columns</p>\n",
       "</div>"
      ],
      "text/plain": [
       "       step  customer  age  gender  merchant  category  amount  fraud\n",
       "0         0     197.0  4.0     2.0      30.0      12.0    4.55      0\n",
       "1         0    2604.0  2.0     2.0      30.0      12.0   39.68      0\n",
       "2         0    2160.0  4.0     1.0      18.0      12.0   26.89      0\n",
       "3         0    1554.0  3.0     2.0      30.0      12.0   17.25      0\n",
       "4         0    3388.0  5.0     2.0      30.0      12.0   35.72      0\n",
       "...     ...       ...  ...     ...       ...       ...     ...    ...\n",
       "65530    24    3311.0  3.0     2.0      30.0      12.0   58.35      0\n",
       "65531    24    1943.0  2.0     1.0      18.0      12.0   24.76      0\n",
       "65532    24     446.0  4.0     1.0      18.0      12.0   18.82      0\n",
       "65533    24    1692.0  2.0     1.0      18.0      12.0    9.77      0\n",
       "65534    24    3700.0  2.0     2.0      30.0      12.0   21.50      0\n",
       "\n",
       "[62297 rows x 8 columns]"
      ]
     },
     "execution_count": 17,
     "metadata": {},
     "output_type": "execute_result"
    }
   ],
   "source": [
    "newdf=df[(z<3).all(axis=1)] #outliers\n",
    "newdf"
   ]
  },
  {
   "cell_type": "code",
   "execution_count": 18,
   "id": "a14b4790",
   "metadata": {},
   "outputs": [
    {
     "data": {
      "text/plain": [
       "0    61756\n",
       "1      541\n",
       "Name: fraud, dtype: int64"
      ]
     },
     "execution_count": 18,
     "metadata": {},
     "output_type": "execute_result"
    }
   ],
   "source": [
    "newdf[\"fraud\"].value_counts()"
   ]
  },
  {
   "cell_type": "code",
   "execution_count": 19,
   "id": "6cc174d0",
   "metadata": {},
   "outputs": [
    {
     "data": {
      "text/plain": [
       "(62297, 8)"
      ]
     },
     "execution_count": 19,
     "metadata": {},
     "output_type": "execute_result"
    }
   ],
   "source": [
    "newdf.shape"
   ]
  },
  {
   "cell_type": "code",
   "execution_count": 20,
   "id": "fa4f6dc4",
   "metadata": {},
   "outputs": [
    {
     "data": {
      "text/html": [
       "<div>\n",
       "<style scoped>\n",
       "    .dataframe tbody tr th:only-of-type {\n",
       "        vertical-align: middle;\n",
       "    }\n",
       "\n",
       "    .dataframe tbody tr th {\n",
       "        vertical-align: top;\n",
       "    }\n",
       "\n",
       "    .dataframe thead th {\n",
       "        text-align: right;\n",
       "    }\n",
       "</style>\n",
       "<table border=\"1\" class=\"dataframe\">\n",
       "  <thead>\n",
       "    <tr style=\"text-align: right;\">\n",
       "      <th></th>\n",
       "      <th>step</th>\n",
       "      <th>customer</th>\n",
       "      <th>age</th>\n",
       "      <th>gender</th>\n",
       "      <th>merchant</th>\n",
       "      <th>category</th>\n",
       "      <th>amount</th>\n",
       "    </tr>\n",
       "  </thead>\n",
       "  <tbody>\n",
       "    <tr>\n",
       "      <th>0</th>\n",
       "      <td>0</td>\n",
       "      <td>197.0</td>\n",
       "      <td>4.0</td>\n",
       "      <td>2.0</td>\n",
       "      <td>30.0</td>\n",
       "      <td>12.0</td>\n",
       "      <td>4.55</td>\n",
       "    </tr>\n",
       "    <tr>\n",
       "      <th>1</th>\n",
       "      <td>0</td>\n",
       "      <td>2604.0</td>\n",
       "      <td>2.0</td>\n",
       "      <td>2.0</td>\n",
       "      <td>30.0</td>\n",
       "      <td>12.0</td>\n",
       "      <td>39.68</td>\n",
       "    </tr>\n",
       "    <tr>\n",
       "      <th>2</th>\n",
       "      <td>0</td>\n",
       "      <td>2160.0</td>\n",
       "      <td>4.0</td>\n",
       "      <td>1.0</td>\n",
       "      <td>18.0</td>\n",
       "      <td>12.0</td>\n",
       "      <td>26.89</td>\n",
       "    </tr>\n",
       "    <tr>\n",
       "      <th>3</th>\n",
       "      <td>0</td>\n",
       "      <td>1554.0</td>\n",
       "      <td>3.0</td>\n",
       "      <td>2.0</td>\n",
       "      <td>30.0</td>\n",
       "      <td>12.0</td>\n",
       "      <td>17.25</td>\n",
       "    </tr>\n",
       "    <tr>\n",
       "      <th>4</th>\n",
       "      <td>0</td>\n",
       "      <td>3388.0</td>\n",
       "      <td>5.0</td>\n",
       "      <td>2.0</td>\n",
       "      <td>30.0</td>\n",
       "      <td>12.0</td>\n",
       "      <td>35.72</td>\n",
       "    </tr>\n",
       "    <tr>\n",
       "      <th>...</th>\n",
       "      <td>...</td>\n",
       "      <td>...</td>\n",
       "      <td>...</td>\n",
       "      <td>...</td>\n",
       "      <td>...</td>\n",
       "      <td>...</td>\n",
       "      <td>...</td>\n",
       "    </tr>\n",
       "    <tr>\n",
       "      <th>65530</th>\n",
       "      <td>24</td>\n",
       "      <td>3311.0</td>\n",
       "      <td>3.0</td>\n",
       "      <td>2.0</td>\n",
       "      <td>30.0</td>\n",
       "      <td>12.0</td>\n",
       "      <td>58.35</td>\n",
       "    </tr>\n",
       "    <tr>\n",
       "      <th>65531</th>\n",
       "      <td>24</td>\n",
       "      <td>1943.0</td>\n",
       "      <td>2.0</td>\n",
       "      <td>1.0</td>\n",
       "      <td>18.0</td>\n",
       "      <td>12.0</td>\n",
       "      <td>24.76</td>\n",
       "    </tr>\n",
       "    <tr>\n",
       "      <th>65532</th>\n",
       "      <td>24</td>\n",
       "      <td>446.0</td>\n",
       "      <td>4.0</td>\n",
       "      <td>1.0</td>\n",
       "      <td>18.0</td>\n",
       "      <td>12.0</td>\n",
       "      <td>18.82</td>\n",
       "    </tr>\n",
       "    <tr>\n",
       "      <th>65533</th>\n",
       "      <td>24</td>\n",
       "      <td>1692.0</td>\n",
       "      <td>2.0</td>\n",
       "      <td>1.0</td>\n",
       "      <td>18.0</td>\n",
       "      <td>12.0</td>\n",
       "      <td>9.77</td>\n",
       "    </tr>\n",
       "    <tr>\n",
       "      <th>65534</th>\n",
       "      <td>24</td>\n",
       "      <td>3700.0</td>\n",
       "      <td>2.0</td>\n",
       "      <td>2.0</td>\n",
       "      <td>30.0</td>\n",
       "      <td>12.0</td>\n",
       "      <td>21.50</td>\n",
       "    </tr>\n",
       "  </tbody>\n",
       "</table>\n",
       "<p>62297 rows × 7 columns</p>\n",
       "</div>"
      ],
      "text/plain": [
       "       step  customer  age  gender  merchant  category  amount\n",
       "0         0     197.0  4.0     2.0      30.0      12.0    4.55\n",
       "1         0    2604.0  2.0     2.0      30.0      12.0   39.68\n",
       "2         0    2160.0  4.0     1.0      18.0      12.0   26.89\n",
       "3         0    1554.0  3.0     2.0      30.0      12.0   17.25\n",
       "4         0    3388.0  5.0     2.0      30.0      12.0   35.72\n",
       "...     ...       ...  ...     ...       ...       ...     ...\n",
       "65530    24    3311.0  3.0     2.0      30.0      12.0   58.35\n",
       "65531    24    1943.0  2.0     1.0      18.0      12.0   24.76\n",
       "65532    24     446.0  4.0     1.0      18.0      12.0   18.82\n",
       "65533    24    1692.0  2.0     1.0      18.0      12.0    9.77\n",
       "65534    24    3700.0  2.0     2.0      30.0      12.0   21.50\n",
       "\n",
       "[62297 rows x 7 columns]"
      ]
     },
     "execution_count": 20,
     "metadata": {},
     "output_type": "execute_result"
    }
   ],
   "source": [
    "x=newdf.iloc[:,:-1]\n",
    "x"
   ]
  },
  {
   "cell_type": "code",
   "execution_count": 21,
   "id": "c041aaba",
   "metadata": {},
   "outputs": [
    {
     "data": {
      "text/plain": [
       "0        0\n",
       "1        0\n",
       "2        0\n",
       "3        0\n",
       "4        0\n",
       "        ..\n",
       "65530    0\n",
       "65531    0\n",
       "65532    0\n",
       "65533    0\n",
       "65534    0\n",
       "Name: fraud, Length: 62297, dtype: int64"
      ]
     },
     "execution_count": 21,
     "metadata": {},
     "output_type": "execute_result"
    }
   ],
   "source": [
    "y=newdf.iloc[:,-1]\n",
    "y"
   ]
  },
  {
   "cell_type": "code",
   "execution_count": 22,
   "id": "06192d81",
   "metadata": {},
   "outputs": [],
   "source": [
    "#sns.pairplot(newdf)"
   ]
  },
  {
   "cell_type": "code",
   "execution_count": 23,
   "id": "19a8978b",
   "metadata": {},
   "outputs": [],
   "source": [
    "#sns.pairplot(newdf,hue=\"fraud\")"
   ]
  },
  {
   "cell_type": "code",
   "execution_count": 24,
   "id": "42418f5c",
   "metadata": {},
   "outputs": [
    {
     "data": {
      "text/plain": [
       "<AxesSubplot: >"
      ]
     },
     "execution_count": 24,
     "metadata": {},
     "output_type": "execute_result"
    },
    {
     "data": {
      "image/png": "[encoded data removed]",
      "text/plain": [
       "<Figure size 1152x1152 with 2 Axes>"
      ]
     },
     "metadata": {
      "needs_background": "light"
     },
     "output_type": "display_data"
    }
   ],
   "source": [
    "plt.figure(figsize=(16,16))\n",
    "sns.heatmap(x.corr(),annot=True)"
   ]
  },
  {
   "cell_type": "code",
   "execution_count": 25,
   "id": "83031475",
   "metadata": {},
   "outputs": [],
   "source": [
    "from sklearn.linear_model import LogisticRegression\n",
    "from sklearn.metrics import confusion_matrix,classification_report,accuracy_score\n",
    "from sklearn.naive_bayes import GaussianNB\n",
    "from sklearn.tree import DecisionTreeClassifier\n",
    "from sklearn.neighbors import KNeighborsClassifier\n",
    "from sklearn.ensemble import RandomForestClassifier\n",
    "from sklearn.ensemble import AdaBoostClassifier\n",
    "from sklearn.ensemble import GradientBoostingClassifier"
   ]
  },
  {
   "cell_type": "code",
   "execution_count": 26,
   "id": "e62cc3e6",
   "metadata": {},
   "outputs": [],
   "source": [
    "from sklearn.model_selection import train_test_split\n",
    "xtrain,xtest,ytrain,ytest=train_test_split(x,y,test_size=0.3,random_state=1)"
   ]
  },
  {
   "cell_type": "code",
   "execution_count": 27,
   "id": "401a24d5",
   "metadata": {},
   "outputs": [],
   "source": [
    "#logistic"
   ]
  },
  {
   "cell_type": "code",
   "execution_count": 28,
   "id": "cbe1679d",
   "metadata": {},
   "outputs": [],
   "source": [
    "from sklearn.linear_model import LogisticRegression\n",
    "logreg=LogisticRegression()\n",
    "logreg.fit(xtrain,ytrain)\n",
    "ypred=logreg.predict(xtest)"
   ]
  },
  {
   "cell_type": "code",
   "execution_count": 29,
   "id": "5e851816",
   "metadata": {},
   "outputs": [
    {
     "name": "stdout",
     "output_type": "stream",
     "text": [
      "Accuracy:0.9929909042268593\n",
      "              precision    recall  f1-score   support\n",
      "\n",
      "           0       0.99      1.00      1.00     18521\n",
      "           1       0.72      0.37      0.49       169\n",
      "\n",
      "    accuracy                           0.99     18690\n",
      "   macro avg       0.86      0.68      0.74     18690\n",
      "weighted avg       0.99      0.99      0.99     18690\n",
      "\n"
     ]
    }
   ],
   "source": [
    "from sklearn.metrics import accuracy_score,confusion_matrix,classification_report\n",
    "ac=accuracy_score(ytest,ypred)\n",
    "cr=classification_report(ytest,ypred)\n",
    "print(f\"Accuracy:{ac}\\n{cr}\")"
   ]
  },
  {
   "cell_type": "code",
   "execution_count": 30,
   "id": "644b6484",
   "metadata": {},
   "outputs": [
    {
     "name": "stdout",
     "output_type": "stream",
     "text": [
      "Training Accuracy:0.9932808952691081\n",
      "Testing Accuracy0.9929909042268593\n"
     ]
    }
   ],
   "source": [
    "train=logreg.score(xtrain,ytrain)\n",
    "test=logreg.score(xtest,ytest)\n",
    "print(f\"Training Accuracy:{train}\\nTesting Accuracy{test}\")"
   ]
  },
  {
   "cell_type": "code",
   "execution_count": 31,
   "id": "b9eb30a0",
   "metadata": {},
   "outputs": [],
   "source": [
    "from sklearn.neighbors import KNeighborsClassifier\n",
    "knn=KNeighborsClassifier(n_neighbors=56)#20 best\n",
    "knn.fit(xtrain,ytrain)\n",
    "ypred=knn.predict(xtest)"
   ]
  },
  {
   "cell_type": "code",
   "execution_count": 32,
   "id": "641bde8e",
   "metadata": {},
   "outputs": [
    {
     "name": "stdout",
     "output_type": "stream",
     "text": [
      "Accuracy score:0.991653290529695\n",
      "              precision    recall  f1-score   support\n",
      "\n",
      "           0       0.99      1.00      1.00     18521\n",
      "           1       0.84      0.09      0.17       169\n",
      "\n",
      "    accuracy                           0.99     18690\n",
      "   macro avg       0.92      0.55      0.58     18690\n",
      "weighted avg       0.99      0.99      0.99     18690\n",
      "\n"
     ]
    }
   ],
   "source": [
    "cr=classification_report(ytest,ypred)\n",
    "acc=accuracy_score(ytest,ypred)\n",
    "print(f\"Accuracy score:{acc}\\n{cr}\")"
   ]
  },
  {
   "cell_type": "code",
   "execution_count": 33,
   "id": "234658a1",
   "metadata": {},
   "outputs": [
    {
     "name": "stdout",
     "output_type": "stream",
     "text": [
      "Training Accuracy:0.9926846607196093\n",
      "Testing Accuracy0.991653290529695\n"
     ]
    }
   ],
   "source": [
    "train=knn.score(xtrain,ytrain)\n",
    "test=knn.score(xtest,ytest)\n",
    "print(f\"Training Accuracy:{train}\\nTesting Accuracy{test}\")"
   ]
  },
  {
   "cell_type": "code",
   "execution_count": 34,
   "id": "8fc370e4",
   "metadata": {},
   "outputs": [
    {
     "name": "stdout",
     "output_type": "stream",
     "text": [
      "              precision    recall  f1-score   support\n",
      "\n",
      "           0       1.00      1.00      1.00     18521\n",
      "           1       0.73      0.46      0.57       169\n",
      "\n",
      "    accuracy                           0.99     18690\n",
      "   macro avg       0.86      0.73      0.78     18690\n",
      "weighted avg       0.99      0.99      0.99     18690\n",
      "\n"
     ]
    }
   ],
   "source": [
    "abc=AdaBoostClassifier(n_estimators=100,random_state=1)#100,1 best\n",
    "abc.fit(xtrain,ytrain)\n",
    "ypred=abc.predict(xtest)\n",
    "print(classification_report(ytest,ypred))"
   ]
  },
  {
   "cell_type": "code",
   "execution_count": 35,
   "id": "d053a2bf",
   "metadata": {},
   "outputs": [
    {
     "name": "stdout",
     "output_type": "stream",
     "text": [
      "Training Accuracy:0.9947256174467402\n",
      "Testing Accuracy0.9935794542536116\n"
     ]
    }
   ],
   "source": [
    "train=abc.score(xtrain,ytrain)\n",
    "test=abc.score(xtest,ytest)\n",
    "print(f\"Training Accuracy:{train}\\nTesting Accuracy{test}\")"
   ]
  },
  {
   "cell_type": "code",
   "execution_count": 36,
   "id": "c640ffc4",
   "metadata": {},
   "outputs": [
    {
     "data": {
      "text/plain": [
       "RandomForestClassifier(max_depth=8, n_estimators=61)"
      ]
     },
     "execution_count": 36,
     "metadata": {},
     "output_type": "execute_result"
    }
   ],
   "source": [
    "rf=RandomForestClassifier(n_estimators=61,max_depth=8)\n",
    "rf.fit(xtrain,ytrain)"
   ]
  },
  {
   "cell_type": "code",
   "execution_count": 37,
   "id": "71baf1d5",
   "metadata": {},
   "outputs": [
    {
     "name": "stdout",
     "output_type": "stream",
     "text": [
      "              precision    recall  f1-score   support\n",
      "\n",
      "           0       1.00      1.00      1.00     18521\n",
      "           1       0.73      0.51      0.60       169\n",
      "\n",
      "    accuracy                           0.99     18690\n",
      "   macro avg       0.86      0.75      0.80     18690\n",
      "weighted avg       0.99      0.99      0.99     18690\n",
      "\n"
     ]
    }
   ],
   "source": [
    "ypred=rf.predict(xtest)\n",
    "print(classification_report(ytest,ypred))"
   ]
  },
  {
   "cell_type": "code",
   "execution_count": 38,
   "id": "5e4007ad",
   "metadata": {},
   "outputs": [
    {
     "name": "stdout",
     "output_type": "stream",
     "text": [
      "Training Accuracy:0.9966060494874676\n",
      "Testing Accuracy0.9938469769930444\n"
     ]
    }
   ],
   "source": [
    "train=rf.score(xtrain,ytrain)\n",
    "test=rf.score(xtest,ytest)\n",
    "print(f\"Training Accuracy:{train}\\nTesting Accuracy{test}\")"
   ]
  },
  {
   "cell_type": "code",
   "execution_count": 39,
   "id": "3bf0aa57",
   "metadata": {},
   "outputs": [
    {
     "name": "stdout",
     "output_type": "stream",
     "text": [
      "              precision    recall  f1-score   support\n",
      "\n",
      "           0       1.00      1.00      1.00     18521\n",
      "           1       0.75      0.48      0.58       169\n",
      "\n",
      "    accuracy                           0.99     18690\n",
      "   macro avg       0.87      0.74      0.79     18690\n",
      "weighted avg       0.99      0.99      0.99     18690\n",
      "\n"
     ]
    }
   ],
   "source": [
    "dtc2=DecisionTreeClassifier(max_depth=8,min_samples_leaf=29)\n",
    "dtc2.fit(xtrain,ytrain)\n",
    "ypred=dtc2.predict(xtest)\n",
    "print(classification_report(ytest,ypred))"
   ]
  },
  {
   "cell_type": "code",
   "execution_count": 40,
   "id": "0df400f3",
   "metadata": {},
   "outputs": [
    {
     "name": "stdout",
     "output_type": "stream",
     "text": [
      "Training Accuracy:0.9948402779370284\n",
      "Testing Accuracy0.9938469769930444\n"
     ]
    }
   ],
   "source": [
    "train=dtc2.score(xtrain,ytrain)\n",
    "test=dtc2.score(xtest,ytest)\n",
    "print(f\"Training Accuracy:{train}\\nTesting Accuracy{test}\")"
   ]
  }
 ],
 "metadata": {
  "kernelspec": {
   "display_name": "Python 3 (ipykernel)",
   "language": "python",
   "name": "python3"
  },
  "language_info": {
   "codemirror_mode": {
    "name": "ipython",
    "version": 3
   },
   "file_extension": ".py",
   "mimetype": "text/x-python",
   "name": "python",
   "nbconvert_exporter": "python",
   "pygments_lexer": "ipython3",
   "version": "3.9.12"
  }
 },
 "nbformat": 4,
 "nbformat_minor": 5
}
